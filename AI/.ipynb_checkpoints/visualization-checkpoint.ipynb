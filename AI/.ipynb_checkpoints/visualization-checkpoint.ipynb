{
 "cells": [
  {
   "cell_type": "code",
   "execution_count": 1,
   "id": "5a7df513-7ed3-4903-9f5e-ebae6ec7dfa2",
   "metadata": {},
   "outputs": [],
   "source": [
    "import pandas as pd\n",
    "a = pd.read_csv('foot.csv')"
   ]
  },
  {
   "cell_type": "code",
   "execution_count": 3,
   "id": "2168d765-c4d6-435f-8c94-d9dc4c385321",
   "metadata": {},
   "outputs": [
    {
     "data": {
      "text/html": [
       "<div>\n",
       "<style scoped>\n",
       "    .dataframe tbody tr th:only-of-type {\n",
       "        vertical-align: middle;\n",
       "    }\n",
       "\n",
       "    .dataframe tbody tr th {\n",
       "        vertical-align: top;\n",
       "    }\n",
       "\n",
       "    .dataframe thead th {\n",
       "        text-align: right;\n",
       "    }\n",
       "</style>\n",
       "<table border=\"1\" class=\"dataframe\">\n",
       "  <thead>\n",
       "    <tr style=\"text-align: right;\">\n",
       "      <th></th>\n",
       "      <th>name</th>\n",
       "      <th>link</th>\n",
       "      <th>price_usd</th>\n",
       "      <th>mark_price_usd</th>\n",
       "      <th>star_rating</th>\n",
       "      <th>colour</th>\n",
       "      <th>seller_name</th>\n",
       "      <th>review_count</th>\n",
       "      <th>sku_id</th>\n",
       "      <th>hero_image</th>\n",
       "    </tr>\n",
       "  </thead>\n",
       "  <tbody>\n",
       "    <tr>\n",
       "      <th>0</th>\n",
       "      <td>Women's Casual Sports Shoes, Fashionable Versa...</td>\n",
       "      <td>https://us.shein.com/Women-s-Casual-Sports-Sho...</td>\n",
       "      <td>19.4</td>\n",
       "      <td>24.4</td>\n",
       "      <td>4.83</td>\n",
       "      <td>Khaki</td>\n",
       "      <td>Womens Shoes</td>\n",
       "      <td>77</td>\n",
       "      <td>sx2305270713671620</td>\n",
       "      <td>//img.ltwebstatic.com/images3_spmp/2023/12/19/...</td>\n",
       "    </tr>\n",
       "  </tbody>\n",
       "</table>\n",
       "</div>"
      ],
      "text/plain": [
       "                                                name  \\\n",
       "0  Women's Casual Sports Shoes, Fashionable Versa...   \n",
       "\n",
       "                                                link  price_usd  \\\n",
       "0  https://us.shein.com/Women-s-Casual-Sports-Sho...       19.4   \n",
       "\n",
       "   mark_price_usd  star_rating colour   seller_name review_count  \\\n",
       "0            24.4         4.83  Khaki  Womens Shoes           77   \n",
       "\n",
       "                sku_id                                         hero_image  \n",
       "0   sx2305270713671620  //img.ltwebstatic.com/images3_spmp/2023/12/19/...  "
      ]
     },
     "execution_count": 3,
     "metadata": {},
     "output_type": "execute_result"
    }
   ],
   "source": [
    "a.head(1)"
   ]
  },
  {
   "cell_type": "code",
   "execution_count": 5,
   "id": "362c0ddb-b3c1-4fc5-a7cf-a67768096233",
   "metadata": {},
   "outputs": [
    {
     "name": "stdout",
     "output_type": "stream",
     "text": [
      "<class 'pandas.core.frame.DataFrame'>\n",
      "RangeIndex: 899 entries, 0 to 898\n",
      "Data columns (total 10 columns):\n",
      " #   Column          Non-Null Count  Dtype  \n",
      "---  ------          --------------  -----  \n",
      " 0   name            899 non-null    object \n",
      " 1   link            899 non-null    object \n",
      " 2   price_usd       899 non-null    float64\n",
      " 3   mark_price_usd  899 non-null    float64\n",
      " 4   star_rating     899 non-null    float64\n",
      " 5   colour          690 non-null    object \n",
      " 6   seller_name     9 non-null      object \n",
      " 7   review_count    899 non-null    object \n",
      " 8   sku_id          899 non-null    object \n",
      " 9   hero_image      899 non-null    object \n",
      "dtypes: float64(3), object(7)\n",
      "memory usage: 70.4+ KB\n"
     ]
    }
   ],
   "source": [
    "a.info()"
   ]
  },
  {
   "cell_type": "code",
   "execution_count": 6,
   "id": "a21e33f9-845e-4b64-8ab8-01fdad18e859",
   "metadata": {},
   "outputs": [
    {
     "data": {
      "text/html": [
       "<div>\n",
       "<style scoped>\n",
       "    .dataframe tbody tr th:only-of-type {\n",
       "        vertical-align: middle;\n",
       "    }\n",
       "\n",
       "    .dataframe tbody tr th {\n",
       "        vertical-align: top;\n",
       "    }\n",
       "\n",
       "    .dataframe thead th {\n",
       "        text-align: right;\n",
       "    }\n",
       "</style>\n",
       "<table border=\"1\" class=\"dataframe\">\n",
       "  <thead>\n",
       "    <tr style=\"text-align: right;\">\n",
       "      <th></th>\n",
       "      <th>price_usd</th>\n",
       "      <th>mark_price_usd</th>\n",
       "      <th>star_rating</th>\n",
       "    </tr>\n",
       "  </thead>\n",
       "  <tbody>\n",
       "    <tr>\n",
       "      <th>count</th>\n",
       "      <td>899.000000</td>\n",
       "      <td>899.000000</td>\n",
       "      <td>899.000000</td>\n",
       "    </tr>\n",
       "    <tr>\n",
       "      <th>mean</th>\n",
       "      <td>17.303537</td>\n",
       "      <td>23.231624</td>\n",
       "      <td>0.043437</td>\n",
       "    </tr>\n",
       "    <tr>\n",
       "      <th>std</th>\n",
       "      <td>15.234275</td>\n",
       "      <td>18.266408</td>\n",
       "      <td>0.458675</td>\n",
       "    </tr>\n",
       "    <tr>\n",
       "      <th>min</th>\n",
       "      <td>0.610000</td>\n",
       "      <td>2.100000</td>\n",
       "      <td>0.000000</td>\n",
       "    </tr>\n",
       "    <tr>\n",
       "      <th>25%</th>\n",
       "      <td>11.900000</td>\n",
       "      <td>16.200000</td>\n",
       "      <td>0.000000</td>\n",
       "    </tr>\n",
       "    <tr>\n",
       "      <th>50%</th>\n",
       "      <td>15.800000</td>\n",
       "      <td>21.000000</td>\n",
       "      <td>0.000000</td>\n",
       "    </tr>\n",
       "    <tr>\n",
       "      <th>75%</th>\n",
       "      <td>19.990000</td>\n",
       "      <td>26.000000</td>\n",
       "      <td>0.000000</td>\n",
       "    </tr>\n",
       "    <tr>\n",
       "      <th>max</th>\n",
       "      <td>247.500000</td>\n",
       "      <td>319.070000</td>\n",
       "      <td>4.920000</td>\n",
       "    </tr>\n",
       "  </tbody>\n",
       "</table>\n",
       "</div>"
      ],
      "text/plain": [
       "        price_usd  mark_price_usd  star_rating\n",
       "count  899.000000      899.000000   899.000000\n",
       "mean    17.303537       23.231624     0.043437\n",
       "std     15.234275       18.266408     0.458675\n",
       "min      0.610000        2.100000     0.000000\n",
       "25%     11.900000       16.200000     0.000000\n",
       "50%     15.800000       21.000000     0.000000\n",
       "75%     19.990000       26.000000     0.000000\n",
       "max    247.500000      319.070000     4.920000"
      ]
     },
     "execution_count": 6,
     "metadata": {},
     "output_type": "execute_result"
    }
   ],
   "source": [
    "a.describe()"
   ]
  },
  {
   "cell_type": "code",
   "execution_count": 7,
   "id": "c61e9daf-8041-430c-8f2e-8c63508d9e86",
   "metadata": {},
   "outputs": [],
   "source": [
    "from matplotlib import pyplot as plt"
   ]
  },
  {
   "cell_type": "code",
   "execution_count": 8,
   "id": "9d4850cf-9bb2-4750-9699-05e95fe081d5",
   "metadata": {},
   "outputs": [],
   "source": [
    "import matplotlib.pyplot as plt"
   ]
  },
  {
   "cell_type": "code",
   "execution_count": null,
   "id": "449a5448-6e12-4d02-97bc-c60b55644f69",
   "metadata": {},
   "outputs": [],
   "source": [
    "x = ['Ranjit', 'Mukesh', 'Damodar', 'Shrey']\n",
    "y = [89,86, 82, 88]"
   ]
  }
 ],
 "metadata": {
  "kernelspec": {
   "display_name": "Python 3 (ipykernel)",
   "language": "python",
   "name": "python3"
  },
  "language_info": {
   "codemirror_mode": {
    "name": "ipython",
    "version": 3
   },
   "file_extension": ".py",
   "mimetype": "text/x-python",
   "name": "python",
   "nbconvert_exporter": "python",
   "pygments_lexer": "ipython3",
   "version": "3.12.0"
  }
 },
 "nbformat": 4,
 "nbformat_minor": 5
}
