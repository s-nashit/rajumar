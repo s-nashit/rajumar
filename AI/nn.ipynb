{
 "cells": [
  {
   "cell_type": "code",
   "execution_count": 1,
   "id": "1f1e356b-afba-42e8-bd14-a17a14fbcaa2",
   "metadata": {},
   "outputs": [],
   "source": [
    "import numpy as np\n",
    "train_input = np.array(\n",
    "    [\n",
    "        [1,1,0],\n",
    "        [0,1,0],\n",
    "        [0,0,1],\n",
    "        [1,0,0]\n",
    "    ]\n",
    ")\n",
    "train_output = np.array(\n",
    "    [\n",
    "        [1],\n",
    "        [0],\n",
    "        [0],\n",
    "        [1]\n",
    "    ]\n",
    ")"
   ]
  },
  {
   "cell_type": "code",
   "execution_count": 14,
   "id": "1c310023-670a-458f-8bba-f2211c603f41",
   "metadata": {},
   "outputs": [],
   "source": [
    "weight = 2*np.random.random((3,1))-1"
   ]
  },
  {
   "cell_type": "code",
   "execution_count": 15,
   "id": "9817b706-8fe5-4e25-a902-cfa7299e1f3e",
   "metadata": {},
   "outputs": [
    {
     "data": {
      "text/plain": [
       "array([[-0.14859471],\n",
       "       [-0.71844163],\n",
       "       [ 0.81821719]])"
      ]
     },
     "execution_count": 15,
     "metadata": {},
     "output_type": "execute_result"
    }
   ],
   "source": [
    "weight"
   ]
  },
  {
   "cell_type": "code",
   "execution_count": 19,
   "id": "885ade5d-5019-4f44-afad-a3447df54f64",
   "metadata": {},
   "outputs": [],
   "source": [
    "#activation\n",
    "# def summation(a,b):\n",
    "#     return np.dot(a,b)\n",
    "def activation(x):\n",
    "    return (1/(1+np.exp(-x))) "
   ]
  },
  {
   "cell_type": "code",
   "execution_count": 20,
   "id": "8e6968fa-fc9c-4ade-b6cb-5d504b64b7f7",
   "metadata": {},
   "outputs": [],
   "source": [
    "pred_output = activation(np.dot(train_input,weight))"
   ]
  },
  {
   "cell_type": "code",
   "execution_count": 21,
   "id": "b99c9f35-4552-4d79-9cc3-7e302a9e8ca3",
   "metadata": {},
   "outputs": [
    {
     "data": {
      "text/plain": [
       "array([[0.29587135],\n",
       "       [0.32773624],\n",
       "       [0.69385777],\n",
       "       [0.46291953]])"
      ]
     },
     "execution_count": 21,
     "metadata": {},
     "output_type": "execute_result"
    }
   ],
   "source": [
    "pred_output\n",
    "    # [\n",
    "    #     [1],\n",
    "    #     [0],\n",
    "    #     [0],\n",
    "    #     [1]\n",
    "    # ] 25%\n",
    "# y_test-y_pred"
   ]
  },
  {
   "cell_type": "code",
   "execution_count": 23,
   "id": "505d1d82-7435-4aea-9faa-0f1cfd2155af",
   "metadata": {},
   "outputs": [
    {
     "data": {
      "text/plain": [
       "array([[ 0.70412865],\n",
       "       [-0.32773624],\n",
       "       [-0.69385777],\n",
       "       [ 0.53708047]])"
      ]
     },
     "execution_count": 23,
     "metadata": {},
     "output_type": "execute_result"
    }
   ],
   "source": [
    "error = train_output-pred_output\n",
    "error"
   ]
  },
  {
   "cell_type": "code",
   "execution_count": 25,
   "id": "63ec7d61-3c40-4df3-ae27-2d81e6dc6740",
   "metadata": {},
   "outputs": [],
   "source": [
    "#normalisation\n",
    "def derivative(x):\n",
    "    return(x*(1-x))"
   ]
  },
  {
   "cell_type": "code",
   "execution_count": 28,
   "id": "bf92ee8e-6be0-442b-a43e-bc41db009097",
   "metadata": {},
   "outputs": [
    {
     "data": {
      "text/plain": [
       "array([[ 0.14669217],\n",
       "       [-0.07220855],\n",
       "       [-0.14738869],\n",
       "       [ 0.13353165]])"
      ]
     },
     "execution_count": 28,
     "metadata": {},
     "output_type": "execute_result"
    }
   ],
   "source": [
    "adjusted_valuus = error*derivative(pred_output)\n",
    "adjusted_valuus"
   ]
  },
  {
   "cell_type": "code",
   "execution_count": 29,
   "id": "58d0c746-2a59-48d0-a276-b35a99da0a6a",
   "metadata": {},
   "outputs": [],
   "source": [
    "weight += np.dot(train_input.T, adjusted_valuus)"
   ]
  },
  {
   "cell_type": "code",
   "execution_count": 30,
   "id": "c1bdb404-6d81-4ba5-9087-bbb5e10627cc",
   "metadata": {},
   "outputs": [
    {
     "data": {
      "text/plain": [
       "array([[ 0.13162912],\n",
       "       [-0.64395801],\n",
       "       [ 0.6708285 ]])"
      ]
     },
     "execution_count": 30,
     "metadata": {},
     "output_type": "execute_result"
    }
   ],
   "source": [
    "weight\n",
    "\n",
    "# -0.14859471],\n",
    "#        [-0.71844163],\n",
    "#        [ 0.81821719]]"
   ]
  },
  {
   "cell_type": "code",
   "execution_count": 38,
   "id": "0f48dcfa-5f39-41fc-80b7-d9d511804fe8",
   "metadata": {},
   "outputs": [],
   "source": [
    "for i in range(10000):\n",
    "    pred_output = activation(np.dot(train_input, weight)) # output 1\n",
    "    error = train_output-pred_output\n",
    "    updates = error*derivative(pred_output)\n",
    "    weight += np.dot(train_input.T, updates)"
   ]
  },
  {
   "cell_type": "code",
   "execution_count": 39,
   "id": "24893157-ab40-4696-9590-4e8f2c4cfc4b",
   "metadata": {},
   "outputs": [
    {
     "data": {
      "text/plain": [
       "array([[13.62591353],\n",
       "       [-6.71140752],\n",
       "       [-7.26212595]])"
      ]
     },
     "execution_count": 39,
     "metadata": {},
     "output_type": "execute_result"
    }
   ],
   "source": [
    "weight"
   ]
  },
  {
   "cell_type": "code",
   "execution_count": 43,
   "id": "1c4e4bc3-1c0b-481c-a34d-1feeec142b77",
   "metadata": {},
   "outputs": [
    {
     "name": "stdout",
     "output_type": "stream",
     "text": [
      "[[1.]\n",
      " [0.]\n",
      " [0.]\n",
      " [1.]]\n"
     ]
    }
   ],
   "source": [
    "print(np.round(pred_output))"
   ]
  },
  {
   "cell_type": "code",
   "execution_count": 44,
   "id": "7cbf9316-1b3d-4192-8c5e-99e2dd140707",
   "metadata": {},
   "outputs": [
    {
     "data": {
      "text/plain": [
       "array([[9.99007713e-01],\n",
       "       [1.21547147e-03],\n",
       "       [7.01123278e-04],\n",
       "       [9.99998791e-01]])"
      ]
     },
     "execution_count": 44,
     "metadata": {},
     "output_type": "execute_result"
    }
   ],
   "source": [
    "pred_output"
   ]
  },
  {
   "cell_type": "code",
   "execution_count": 45,
   "id": "a3934e20-8a9e-4827-a937-154eb4e67277",
   "metadata": {},
   "outputs": [],
   "source": [
    "import tensorflow as tf\n",
    "from tensorflow import keras\n",
    "import matplotlib.pyplot as plt"
   ]
  },
  {
   "cell_type": "code",
   "execution_count": 46,
   "id": "a7b4679b-376f-4ac4-a4ed-83f10a521fe1",
   "metadata": {},
   "outputs": [],
   "source": [
    "(x_train, y_train), (x_test, y_test) = keras.datasets.mnist.load_data()"
   ]
  },
  {
   "cell_type": "code",
   "execution_count": 52,
   "id": "67b69d23-a17c-48d2-b322-5e644ef6d6ed",
   "metadata": {},
   "outputs": [
    {
     "data": {
      "text/plain": [
       "10000"
      ]
     },
     "execution_count": 52,
     "metadata": {},
     "output_type": "execute_result"
    }
   ],
   "source": [
    "len(x_test)"
   ]
  },
  {
   "cell_type": "code",
   "execution_count": 61,
   "id": "d5c60337-fc8c-4653-896e-99e230135d2a",
   "metadata": {
    "scrolled": true
   },
   "outputs": [
    {
     "data": {
      "text/plain": [
       "<matplotlib.image.AxesImage at 0x203a8fdbd10>"
      ]
     },
     "execution_count": 61,
     "metadata": {},
     "output_type": "execute_result"
    },
    {
     "data": {
      "image/png": "[encoded data removed]",
      "text/plain": [
       "<Figure size 480x480 with 1 Axes>"
      ]
     },
     "metadata": {},
     "output_type": "display_data"
    }
   ],
   "source": [
    "plt.matshow(x_train[4])"
   ]
  },
  {
   "cell_type": "code",
   "execution_count": null,
   "id": "8db31d34-2662-4325-a252-0ac2ba6fc3f2",
   "metadata": {},
   "outputs": [],
   "source": []
  }
 ],
 "metadata": {
  "kernelspec": {
   "display_name": "Python 3 (ipykernel)",
   "language": "python",
   "name": "python3"
  },
  "language_info": {
   "codemirror_mode": {
    "name": "ipython",
    "version": 3
   },
   "file_extension": ".py",
   "mimetype": "text/x-python",
   "name": "python",
   "nbconvert_exporter": "python",
   "pygments_lexer": "ipython3",
   "version": "3.12.0"
  }
 },
 "nbformat": 4,
 "nbformat_minor": 5
}
