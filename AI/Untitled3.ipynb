{
 "cells": [
  {
   "cell_type": "code",
   "execution_count": 1,
   "id": "649b5b86-e146-49c4-ac51-3435dc2c85b9",
   "metadata": {},
   "outputs": [],
   "source": [
    "import joblib"
   ]
  },
  {
   "cell_type": "code",
   "execution_count": 2,
   "id": "3cfd5d05-9541-42cd-9d05-81aad765e4e6",
   "metadata": {},
   "outputs": [],
   "source": [
    "model1 = joblib.load('mj')"
   ]
  },
  {
   "cell_type": "code",
   "execution_count": 3,
   "id": "fc3ef689-e89d-414b-9ecb-4b9a858cc00d",
   "metadata": {},
   "outputs": [
    {
     "data": {
      "text/plain": [
       "array([4635.5704698])"
      ]
     },
     "execution_count": 3,
     "metadata": {},
     "output_type": "execute_result"
    }
   ],
   "source": [
    "model1.coef_"
   ]
  },
  {
   "cell_type": "code",
   "execution_count": 4,
   "id": "e7ed3391-20fb-4141-bb13-55b48a03fb28",
   "metadata": {},
   "outputs": [
    {
     "data": {
      "text/plain": [
       "-1352214.7651006705"
      ]
     },
     "execution_count": 4,
     "metadata": {},
     "output_type": "execute_result"
    }
   ],
   "source": [
    "model1.intercept_"
   ]
  },
  {
   "cell_type": "code",
   "execution_count": 5,
   "id": "f06d5da1-cedc-4be8-b223-63731c30ae47",
   "metadata": {},
   "outputs": [
    {
     "name": "stderr",
     "output_type": "stream",
     "text": [
      "C:\\Users\\s_nas\\AppData\\Local\\Programs\\Python\\Python312\\Lib\\site-packages\\sklearn\\base.py:465: UserWarning: X does not have valid feature names, but LinearRegression was fitted with feature names\n",
      "  warnings.warn(\n"
     ]
    },
    {
     "data": {
      "text/plain": [
       "array([5601140.93959732])"
      ]
     },
     "execution_count": 5,
     "metadata": {},
     "output_type": "execute_result"
    }
   ],
   "source": [
    "model1.predict([[1500]])\n",
    "#5601140.93959732"
   ]
  },
  {
   "cell_type": "code",
   "execution_count": null,
   "id": "847fb6b0-1586-4cb3-b718-a655466e2309",
   "metadata": {},
   "outputs": [],
   "source": []
  }
 ],
 "metadata": {
  "kernelspec": {
   "display_name": "Python 3 (ipykernel)",
   "language": "python",
   "name": "python3"
  },
  "language_info": {
   "codemirror_mode": {
    "name": "ipython",
    "version": 3
   },
   "file_extension": ".py",
   "mimetype": "text/x-python",
   "name": "python",
   "nbconvert_exporter": "python",
   "pygments_lexer": "ipython3",
   "version": "3.12.0"
  }
 },
 "nbformat": 4,
 "nbformat_minor": 5
}
