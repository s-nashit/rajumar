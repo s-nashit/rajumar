{
 "cells": [
  {
   "cell_type": "code",
   "execution_count": 7,
   "id": "2b83fd98-8d07-4875-9a47-2fefe22cb314",
   "metadata": {},
   "outputs": [
    {
     "data": {
      "text/html": [
       "<div>\n",
       "<style scoped>\n",
       "    .dataframe tbody tr th:only-of-type {\n",
       "        vertical-align: middle;\n",
       "    }\n",
       "\n",
       "    .dataframe tbody tr th {\n",
       "        vertical-align: top;\n",
       "    }\n",
       "\n",
       "    .dataframe thead th {\n",
       "        text-align: right;\n",
       "    }\n",
       "</style>\n",
       "<table border=\"1\" class=\"dataframe\">\n",
       "  <thead>\n",
       "    <tr style=\"text-align: right;\">\n",
       "      <th></th>\n",
       "      <th>Name</th>\n",
       "      <th>Marks</th>\n",
       "    </tr>\n",
       "  </thead>\n",
       "  <tbody>\n",
       "    <tr>\n",
       "      <th>0</th>\n",
       "      <td>Shrey</td>\n",
       "      <td>87.0</td>\n",
       "    </tr>\n",
       "    <tr>\n",
       "      <th>1</th>\n",
       "      <td>Damodar</td>\n",
       "      <td>87.0</td>\n",
       "    </tr>\n",
       "    <tr>\n",
       "      <th>2</th>\n",
       "      <td>Mukesh</td>\n",
       "      <td>89.0</td>\n",
       "    </tr>\n",
       "    <tr>\n",
       "      <th>3</th>\n",
       "      <td>Smriti</td>\n",
       "      <td>89.0</td>\n",
       "    </tr>\n",
       "    <tr>\n",
       "      <th>4</th>\n",
       "      <td>Kunejsh</td>\n",
       "      <td>86.0</td>\n",
       "    </tr>\n",
       "  </tbody>\n",
       "</table>\n",
       "</div>"
      ],
      "text/plain": [
       "      Name  Marks\n",
       "0    Shrey   87.0\n",
       "1  Damodar   87.0\n",
       "2   Mukesh   89.0\n",
       "3   Smriti   89.0\n",
       "4  Kunejsh   86.0"
      ]
     },
     "execution_count": 7,
     "metadata": {},
     "output_type": "execute_result"
    }
   ],
   "source": [
    "import pandas as pd\n",
    "a = pd.read_csv('p.csv')\n",
    "x = a['Name']\n",
    "y = a['Marks']\n",
    "a.head()"
   ]
  },
  {
   "cell_type": "code",
   "execution_count": 4,
   "id": "e41ced25-b68f-4780-88ca-d69d33337f3a",
   "metadata": {},
   "outputs": [
    {
     "data": {
      "text/plain": [
       "0       Shrey\n",
       "1     Damodar\n",
       "2      Mukesh\n",
       "3      Smriti\n",
       "4     Kunejsh\n",
       "5     Bhagwan\n",
       "6     Pravesh\n",
       "7       Rahul\n",
       "8      Ashish\n",
       "9        Atul\n",
       "10    Hanuman\n",
       "11        NaN\n",
       "Name: Name, dtype: object"
      ]
     },
     "execution_count": 4,
     "metadata": {},
     "output_type": "execute_result"
    }
   ],
   "source": [
    "x"
   ]
  },
  {
   "cell_type": "code",
   "execution_count": 5,
   "id": "fdcf80bc-713c-48b1-8fe1-39321efc7aa4",
   "metadata": {},
   "outputs": [
    {
     "data": {
      "text/plain": [
       "0     87.0\n",
       "1     87.0\n",
       "2     89.0\n",
       "3     89.0\n",
       "4     86.0\n",
       "5     89.0\n",
       "6     93.0\n",
       "7     89.0\n",
       "8     92.0\n",
       "9     93.0\n",
       "10    92.0\n",
       "11     NaN\n",
       "Name: Marks, dtype: float64"
      ]
     },
     "execution_count": 5,
     "metadata": {},
     "output_type": "execute_result"
    }
   ],
   "source": [
    "y"
   ]
  },
  {
   "cell_type": "code",
   "execution_count": 8,
   "id": "b13e76bd-0b8c-4694-a27d-792002bf06e4",
   "metadata": {},
   "outputs": [
    {
     "data": {
      "text/plain": [
       "{'whiskers': [<matplotlib.lines.Line2D at 0x2d18765fd10>,\n",
       "  <matplotlib.lines.Line2D at 0x2d187690050>],\n",
       " 'caps': [<matplotlib.lines.Line2D at 0x2d187690350>,\n",
       "  <matplotlib.lines.Line2D at 0x2d187690680>],\n",
       " 'boxes': [<matplotlib.lines.Line2D at 0x2d18765fa10>],\n",
       " 'medians': [<matplotlib.lines.Line2D at 0x2d1876909b0>],\n",
       " 'fliers': [<matplotlib.lines.Line2D at 0x2d187690cb0>],\n",
       " 'means': []}"
      ]
     },
     "execution_count": 8,
     "metadata": {},
     "output_type": "execute_result"
    },
    {
     "data": {
      "image/png": "[encoded data removed]",
      "text/plain": [
       "<Figure size 640x480 with 1 Axes>"
      ]
     },
     "metadata": {},
     "output_type": "display_data"
    }
   ],
   "source": [
    "import matplotlib.pyplot as plt\n",
    "plt.boxplot(a['Marks'])"
   ]
  },
  {
   "cell_type": "code",
   "execution_count": 25,
   "id": "eec6e4ad-00c3-4734-92a6-7ccb01b6fa44",
   "metadata": {},
   "outputs": [
    {
     "data": {
      "text/plain": [
       "{'whiskers': [<matplotlib.lines.Line2D at 0x2d18c504590>,\n",
       "  <matplotlib.lines.Line2D at 0x2d18c504830>],\n",
       " 'caps': [<matplotlib.lines.Line2D at 0x2d18c504b00>,\n",
       "  <matplotlib.lines.Line2D at 0x2d18c504dd0>],\n",
       " 'boxes': [<matplotlib.lines.Line2D at 0x2d18c504320>],\n",
       " 'medians': [<matplotlib.lines.Line2D at 0x2d18c5050a0>],\n",
       " 'fliers': [],\n",
       " 'means': []}"
      ]
     },
     "execution_count": 25,
     "metadata": {},
     "output_type": "execute_result"
    },
    {
     "data": {
      "image/png": "[encoded data removed]",
      "text/plain": [
       "<Figure size 640x480 with 1 Axes>"
      ]
     },
     "metadata": {},
     "output_type": "display_data"
    }
   ],
   "source": [
    "plt.boxplot([4,5,3,7,6,4,12], meanline=False, showfliers=False)"
   ]
  },
  {
   "cell_type": "code",
   "execution_count": 13,
   "id": "c1167c06-e90e-4d2d-b9de-e87c7f3b2c6f",
   "metadata": {},
   "outputs": [
    {
     "data": {
      "text/plain": [
       "{'whiskers': [<matplotlib.lines.Line2D at 0x2d18b323c20>,\n",
       "  <matplotlib.lines.Line2D at 0x2d18b323ec0>],\n",
       " 'caps': [<matplotlib.lines.Line2D at 0x2d18b324140>,\n",
       "  <matplotlib.lines.Line2D at 0x2d18b324470>],\n",
       " 'boxes': [<matplotlib.lines.Line2D at 0x2d18b3236b0>],\n",
       " 'medians': [<matplotlib.lines.Line2D at 0x2d18b324800>],\n",
       " 'fliers': [<matplotlib.lines.Line2D at 0x2d18b324ad0>],\n",
       " 'means': []}"
      ]
     },
     "execution_count": 13,
     "metadata": {},
     "output_type": "execute_result"
    },
    {
     "data": {
      "image/png": "[encoded data removed]",
      "text/plain": [
       "<Figure size 640x480 with 1 Axes>"
      ]
     },
     "metadata": {},
     "output_type": "display_data"
    }
   ],
   "source": [
    "plt.boxplot(y)"
   ]
  },
  {
   "cell_type": "code",
   "execution_count": 36,
   "id": "5b9d22b3-8239-4376-92eb-767d6d72134a",
   "metadata": {},
   "outputs": [
    {
     "data": {
      "text/plain": [
       "{'bodies': [<matplotlib.collections.PolyCollection at 0x2d18da51880>],\n",
       " 'cmaxes': <matplotlib.collections.LineCollection at 0x2d18d9b8380>,\n",
       " 'cmins': <matplotlib.collections.LineCollection at 0x2d18da43a70>,\n",
       " 'cbars': <matplotlib.collections.LineCollection at 0x2d18da49370>,\n",
       " 'cmedians': <matplotlib.collections.LineCollection at 0x2d18da4a7b0>}"
      ]
     },
     "execution_count": 36,
     "metadata": {},
     "output_type": "execute_result"
    },
    {
     "data": {
      "image/png": "[encoded data removed]",
      "text/plain": [
       "<Figure size 640x480 with 1 Axes>"
      ]
     },
     "metadata": {},
     "output_type": "display_data"
    }
   ],
   "source": [
    "plt.violinplot([4,5,3,7,6,4,12],vert=False, showmedians=True)"
   ]
  },
  {
   "cell_type": "code",
   "execution_count": null,
   "id": "1f7ea24d-67d7-4b05-9f84-fcd3c2edb243",
   "metadata": {},
   "outputs": [],
   "source": []
  }
 ],
 "metadata": {
  "kernelspec": {
   "display_name": "Python 3 (ipykernel)",
   "language": "python",
   "name": "python3"
  },
  "language_info": {
   "codemirror_mode": {
    "name": "ipython",
    "version": 3
   },
   "file_extension": ".py",
   "mimetype": "text/x-python",
   "name": "python",
   "nbconvert_exporter": "python",
   "pygments_lexer": "ipython3",
   "version": "3.12.0"
  }
 },
 "nbformat": 4,
 "nbformat_minor": 5
}
