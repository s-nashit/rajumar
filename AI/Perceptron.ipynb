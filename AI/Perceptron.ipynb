{
 "cells": [
  {
   "cell_type": "code",
   "execution_count": 11,
   "id": "3502d5e2-b7b0-4607-8d02-c1bb4eba7e48",
   "metadata": {},
   "outputs": [],
   "source": [
    "import numpy as np"
   ]
  },
  {
   "cell_type": "code",
   "execution_count": 12,
   "id": "6eafba8f-32ac-4464-b4b2-a120d3ca1654",
   "metadata": {},
   "outputs": [],
   "source": [
    "\n",
    "#activation function\n",
    "def sigmoid(x):\n",
    "    return (1/(1+np.exp(-x)))"
   ]
  },
  {
   "cell_type": "code",
   "execution_count": 13,
   "id": "33469011-6181-4258-a4de-19b8db1459fc",
   "metadata": {},
   "outputs": [],
   "source": [
    "def s_der(x):\n",
    "    return (x*(1-x))"
   ]
  },
  {
   "cell_type": "code",
   "execution_count": 14,
   "id": "c148f56a-e7f6-4d35-9d3f-2e404c70a3f2",
   "metadata": {},
   "outputs": [],
   "source": [
    "#inputs\n",
    "input = np.array(\n",
    "    [\n",
    "        [1,0,1],\n",
    "        [1,1,1],\n",
    "        [0,1,1],\n",
    "        [0,0,1]\n",
    "    ]\n",
    ")\n"
   ]
  },
  {
   "cell_type": "code",
   "execution_count": 15,
   "id": "a3c081ba-1f18-4a57-97b5-a905df92bacf",
   "metadata": {},
   "outputs": [],
   "source": [
    "t_output = np.array([[1,1,0,0]]).T\n"
   ]
  },
  {
   "cell_type": "code",
   "execution_count": 17,
   "id": "e9923a3c-d2fa-476c-bc25-1b9e2ca7023e",
   "metadata": {},
   "outputs": [
    {
     "data": {
      "text/plain": [
       "array([[ 0.82115823],\n",
       "       [ 0.19943143],\n",
       "       [-0.68490656]])"
      ]
     },
     "execution_count": 17,
     "metadata": {},
     "output_type": "execute_result"
    }
   ],
   "source": [
    "weights = 2*np.random.random((3,1)) -1\n",
    "weights\n"
   ]
  },
  {
   "cell_type": "code",
   "execution_count": null,
   "id": "00e08429-c5bb-444d-a488-f9d3a9db73e8",
   "metadata": {},
   "outputs": [],
   "source": [
    "for i in range(10000000):\n",
    "    output = sigmoid(np.dot(input, weights)) #output\n",
    "    error = t_output-output # match org val\n",
    "    upd = error*s_der(output) # error func\n",
    "    weights += np.dot(input.T, upd) # weights update"
   ]
  },
  {
   "cell_type": "code",
   "execution_count": null,
   "id": "1b130716-d3ac-4e5a-8494-d62d20574687",
   "metadata": {},
   "outputs": [],
   "source": [
    "\n",
    "        # [1],\n",
    "        # [1],\n",
    "        # [0],\n",
    "        # [0]"
   ]
  },
  {
   "cell_type": "code",
   "execution_count": null,
   "id": "79fb2145-4047-4fe4-a985-ec8290123b5d",
   "metadata": {},
   "outputs": [],
   "source": [
    "output"
   ]
  },
  {
   "cell_type": "code",
   "execution_count": null,
   "id": "2d7683ae-8434-4d6b-8c57-aaf1b1d87363",
   "metadata": {},
   "outputs": [],
   "source": [
    "out_ = sigmoid(input)\n",
    "out_\n",
    "error = out-output_t # "
   ]
  },
  {
   "cell_type": "code",
   "execution_count": null,
   "id": "7c4dc3b2-fe61-48c1-97ff-0c3f43c374d6",
   "metadata": {},
   "outputs": [],
   "source": []
  }
 ],
 "metadata": {
  "kernelspec": {
   "display_name": "Python 3 (ipykernel)",
   "language": "python",
   "name": "python3"
  },
  "language_info": {
   "codemirror_mode": {
    "name": "ipython",
    "version": 3
   },
   "file_extension": ".py",
   "mimetype": "text/x-python",
   "name": "python",
   "nbconvert_exporter": "python",
   "pygments_lexer": "ipython3",
   "version": "3.12.0"
  }
 },
 "nbformat": 4,
 "nbformat_minor": 5
}
