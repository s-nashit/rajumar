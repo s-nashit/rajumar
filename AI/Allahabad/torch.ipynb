{
 "cells": [
  {
   "cell_type": "code",
   "execution_count": 3,
   "id": "01e4ea79-01f6-47e0-97e3-e539821622e4",
   "metadata": {},
   "outputs": [],
   "source": [
    "import numpy as np\n",
    "def soft(n):\n",
    "    return np.exp(n)/np.sum(np.exp(n))"
   ]
  },
  {
   "cell_type": "code",
   "execution_count": 4,
   "id": "ff3803ee-3eae-4fa7-a0f5-83d73bd22232",
   "metadata": {},
   "outputs": [],
   "source": [
    "x = np.array([2,2.2,2.8,3,3.4,3.9,4,4.3])"
   ]
  },
  {
   "cell_type": "code",
   "execution_count": 5,
   "id": "7eba05fd-54e0-4247-bc52-ff796505b685",
   "metadata": {},
   "outputs": [],
   "source": [
    "output = soft(x)"
   ]
  },
  {
   "cell_type": "code",
   "execution_count": 6,
   "id": "9649668a-58fb-4356-9151-0e0e340a58b9",
   "metadata": {},
   "outputs": [
    {
     "data": {
      "text/plain": [
       "array([0.02835306, 0.03463051, 0.0631009 , 0.07707161, 0.11497734,\n",
       "       0.18956558, 0.20950237, 0.28279862])"
      ]
     },
     "execution_count": 6,
     "metadata": {},
     "output_type": "execute_result"
    }
   ],
   "source": [
    "output"
   ]
  },
  {
   "cell_type": "code",
   "execution_count": 7,
   "id": "b611189a-a2d3-446a-b826-cdc1d8d2f420",
   "metadata": {},
   "outputs": [
    {
     "data": {
      "text/plain": [
       "tensor([2.0000, 2.2000, 2.8000, 3.0000, 3.4000, 3.9000, 4.0000, 4.3000],\n",
       "       dtype=torch.float64)"
      ]
     },
     "execution_count": 7,
     "metadata": {},
     "output_type": "execute_result"
    }
   ],
   "source": [
    "import torch\n",
    "y = torch.tensor(x)\n",
    "y"
   ]
  },
  {
   "cell_type": "code",
   "execution_count": 8,
   "id": "13103441-c69f-4bb8-b0b6-b97e180842e3",
   "metadata": {},
   "outputs": [
    {
     "data": {
      "text/plain": [
       "tensor([0.0284, 0.0346, 0.0631, 0.0771, 0.1150, 0.1896, 0.2095, 0.2828],\n",
       "       dtype=torch.float64)"
      ]
     },
     "execution_count": 8,
     "metadata": {},
     "output_type": "execute_result"
    }
   ],
   "source": [
    "out = torch.softmax(y, dim=0)\n",
    "out"
   ]
  },
  {
   "cell_type": "code",
   "execution_count": 9,
   "id": "7fda60a8-733c-4fc6-871b-4c19fdfad378",
   "metadata": {},
   "outputs": [
    {
     "data": {
      "text/plain": [
       "tensor([0.8808, 0.9002, 0.9427, 0.9526, 0.9677, 0.9802, 0.9820, 0.9866],\n",
       "       dtype=torch.float64)"
      ]
     },
     "execution_count": 9,
     "metadata": {},
     "output_type": "execute_result"
    }
   ],
   "source": [
    "torch.sigmoid(y)"
   ]
  },
  {
   "cell_type": "code",
   "execution_count": 10,
   "id": "14da06ef-5360-4ca4-9da7-4ab16b8bb450",
   "metadata": {},
   "outputs": [
    {
     "data": {
      "text/plain": [
       "tensor([2.0000, 2.2000, 2.8000, 3.0000, 3.4000, 3.9000, 4.0000, 4.3000],\n",
       "       dtype=torch.float64)"
      ]
     },
     "execution_count": 10,
     "metadata": {},
     "output_type": "execute_result"
    }
   ],
   "source": [
    "torch.relu(y)"
   ]
  },
  {
   "cell_type": "code",
   "execution_count": 11,
   "id": "63108046-074e-4497-acd5-318e88dd5d82",
   "metadata": {},
   "outputs": [
    {
     "data": {
      "text/plain": [
       "tensor([0.9640, 0.9757, 0.9926, 0.9951, 0.9978, 0.9992, 0.9993, 0.9996],\n",
       "       dtype=torch.float64)"
      ]
     },
     "execution_count": 11,
     "metadata": {},
     "output_type": "execute_result"
    }
   ],
   "source": [
    "torch.tanh(y)"
   ]
  },
  {
   "cell_type": "code",
   "execution_count": 12,
   "id": "1d51a2b2-15e8-44cd-aff9-c49ad6887ca6",
   "metadata": {},
   "outputs": [],
   "source": [
    "#round(2.9) -> 3"
   ]
  },
  {
   "cell_type": "code",
   "execution_count": null,
   "id": "6dfa7e58-9513-4367-b2a5-0de037140fe2",
   "metadata": {},
   "outputs": [],
   "source": []
  }
 ],
 "metadata": {
  "kernelspec": {
   "display_name": "Python 3 (ipykernel)",
   "language": "python",
   "name": "python3"
  },
  "language_info": {
   "codemirror_mode": {
    "name": "ipython",
    "version": 3
   },
   "file_extension": ".py",
   "mimetype": "text/x-python",
   "name": "python",
   "nbconvert_exporter": "python",
   "pygments_lexer": "ipython3",
   "version": "3.12.0"
  }
 },
 "nbformat": 4,
 "nbformat_minor": 5
}
